{
 "cells": [
  {
   "cell_type": "code",
   "execution_count": 5,
   "id": "83984342-4a56-42de-a94a-992de4bbc5dc",
   "metadata": {},
   "outputs": [],
   "source": [
    "import torch\n",
    "import data as Data\n",
    "import model as Model\n",
    "import argparse\n",
    "import logging\n",
    "import core.logger as Logger\n",
    "import core.metrics as Metrics\n",
    "from tensorboardX import SummaryWriter\n",
    "import os\n",
    "import numpy as np\n",
    "from PIL import Image\n",
    "import matplotlib.pyplot as plt"
   ]
  },
  {
   "cell_type": "code",
   "execution_count": 6,
   "id": "98a54ab9-b1e0-4406-9e41-947c4e25fb82",
   "metadata": {},
   "outputs": [
    {
     "name": "stdout",
     "output_type": "stream",
     "text": [
      "export CUDA_VISIBLE_DEVICES=0\n"
     ]
    }
   ],
   "source": [
    "class args_standin():\n",
    "    def __init__(self, config, phase, gpu_ids):\n",
    "        self.config = config\n",
    "        self.phase = phase\n",
    "        self.gpu_ids = gpu_ids\n",
    "        self.debug = False\n",
    "\n",
    "# args = args_standin('config/mri_tibia.json', 'val', None)\n",
    "args = args_standin('config/256_3_testing_config.json', 'val', None)\n",
    "\n",
    "\n",
    "opt = Logger.parse(args)"
   ]
  },
  {
   "cell_type": "code",
   "execution_count": 3,
   "id": "75133e99-fa8b-4b37-ab68-44244eb2875e",
   "metadata": {
    "tags": []
   },
   "outputs": [],
   "source": [
    "# opt['path']['resume_state'] = 'experiments/sr_ffhq_211103_145403/checkpoint/I160000_E1034'\n",
    "# opt['datasets']['val']['dataroot'] = 'data/datasets/tibia/tester_inputs'\n",
    "\n",
    "opt['name'] = \"RUNNING_INFERENCE\"\n",
    "opt['path']['resume_state'] = 'experiments/256_test_220225_202536/checkpoint/I1000000_E189'\n",
    "opt['datasets']['val']['dataroot'] = 'data/datasets/all_pngs/val_85_256'"
   ]
  },
  {
   "cell_type": "code",
   "execution_count": 4,
   "id": "4455c5ca-d143-4804-9c12-6b2bb670feb5",
   "metadata": {},
   "outputs": [],
   "source": [
    "val_set = Data.create_dataset(opt['datasets']['val'], 'val')\n",
    "val_loader = Data.create_dataloader(\n",
    "        val_set, opt['datasets']['val'], 'val')"
   ]
  },
  {
   "cell_type": "code",
   "execution_count": 5,
   "id": "ce5fdfd2-4a85-4ed6-a637-ef5d585f67c4",
   "metadata": {},
   "outputs": [],
   "source": [
    "diffusion = Model.create_model(opt)"
   ]
  },
  {
   "cell_type": "code",
   "execution_count": 6,
   "id": "e30af18c-1b39-4a16-b11f-6f37b18d0e46",
   "metadata": {},
   "outputs": [],
   "source": [
    "diffusion.set_new_noise_schedule(opt['model']['beta_schedule'][opt['phase']], schedule_phase=opt['phase'])"
   ]
  },
  {
   "cell_type": "code",
   "execution_count": 7,
   "id": "2f6e6911-60dd-4ee4-acd4-668270ab6b87",
   "metadata": {},
   "outputs": [],
   "source": [
    "def to_shape_2d(a, shape):\n",
    "    y_, x_ = shape\n",
    "    y, x = a.shape\n",
    "    y_pad = (y_-y)\n",
    "    x_pad = (x_-x)\n",
    "    return np.pad(a,((y_pad//2, y_pad//2 + y_pad%2), \n",
    "                     (x_pad//2, x_pad//2 + x_pad%2)),\n",
    "                  mode = 'edge')\n",
    "\n",
    "\n",
    "def test_image(val_data, model, result_path, scalefactor):\n",
    "    diffusion=model\n",
    "    diffusion.feed_data(val_data)\n",
    "    diffusion.test(continous=False)\n",
    "    visuals = diffusion.get_current_visuals()\n",
    "    sr_img = Metrics.tensor2img(visuals['SR'])  # uint8\n",
    "    hr_img = Metrics.tensor2img(visuals['HR'])  # uint8\n",
    "    lr_img = Metrics.tensor2img(visuals['LR'])  # uint8\n",
    "    fake_img = Metrics.tensor2img(visuals['INF'])  # uint8\n",
    "    lr_img = np.repeat(np.repeat(lr_img, scalefactor, axis=0), scalefactor, axis=1)\n",
    "    #for if lr_img is not the same dimensions\n",
    "    if lr_img.shape != fake_img.shape:\n",
    "            lr_img = to_shape_2d(lr_img, fake_img.shape)\n",
    "    out_img = np.concatenate((hr_img,lr_img,fake_img,sr_img),axis=1)\n",
    "    Metrics.save_img(out_img, '{}.png'.format(result_path))\n",
    "    return Metrics.calculate_psnr(sr_img, hr_img)"
   ]
  },
  {
   "cell_type": "code",
   "execution_count": 8,
   "id": "2988f118-0f85-4f44-97ef-e0679379249f",
   "metadata": {},
   "outputs": [],
   "source": [
    "def test_image_continuous(val_data, model, result_path, scalefactor):\n",
    "    diffusion=model\n",
    "    diffusion.feed_data(val_data)\n",
    "    diffusion.test(continous=True)\n",
    "    visuals = diffusion.get_current_visuals()\n",
    "    sr_img = Metrics.tensor2img(visuals['SR'])  # uint8\n",
    "    srflat = np.concatenate([sr_img[:,:,i] for i in range(len(sr_img[0,0,:]))],axis=1)\n",
    "    Metrics.save_img(srflat, '{}.png'.format(result_path))"
   ]
  },
  {
   "cell_type": "code",
   "execution_count": 9,
   "id": "2d5bdda1-fe45-4aed-a42e-1d522381481f",
   "metadata": {},
   "outputs": [
    {
     "name": "stderr",
     "output_type": "stream",
     "text": [
      "sampling loop time step: 100%|██████████| 2000/2000 [01:06<00:00, 30.27it/s]\n",
      "sampling loop time step: 100%|██████████| 2000/2000 [01:06<00:00, 29.96it/s]\n",
      "sampling loop time step: 100%|██████████| 2000/2000 [01:04<00:00, 31.15it/s]\n",
      "sampling loop time step: 100%|██████████| 2000/2000 [01:04<00:00, 31.09it/s]\n",
      "sampling loop time step: 100%|██████████| 2000/2000 [01:04<00:00, 31.02it/s]\n",
      "sampling loop time step: 100%|██████████| 2000/2000 [01:04<00:00, 30.98it/s]\n",
      "sampling loop time step: 100%|██████████| 2000/2000 [01:04<00:00, 31.00it/s]\n",
      "sampling loop time step: 100%|██████████| 2000/2000 [01:04<00:00, 30.96it/s]\n",
      "sampling loop time step: 100%|██████████| 2000/2000 [01:05<00:00, 30.76it/s]\n",
      "sampling loop time step: 100%|██████████| 2000/2000 [01:04<00:00, 30.95it/s]\n"
     ]
    }
   ],
   "source": [
    "idx = [500, 1000, 1500, 2000, 2500, 3000, 3500, 4000, 4500, 5000]\n",
    "scalefactor = int(opt['datasets']['train']['r_resolution']/opt['datasets']['train']['l_resolution'])\n",
    "\n",
    "for i,  val_data in enumerate(val_loader):\n",
    "    if i in idx:\n",
    "        test_image_continuous(val_data, diffusion, \"misc/85_256_outputs/continuousim_{}\".format(i), scalefactor)\n",
    "    elif i > max(idx):\n",
    "        break\n",
    "    else:\n",
    "        continue"
   ]
  },
  {
   "cell_type": "code",
   "execution_count": null,
   "id": "2aa2abe8-e51e-44ad-873b-41d9e9819d23",
   "metadata": {},
   "outputs": [
    {
     "name": "stderr",
     "output_type": "stream",
     "text": [
      "sampling loop time step: 100%|██████████| 2000/2000 [01:03<00:00, 31.48it/s]\n",
      "sampling loop time step: 100%|██████████| 2000/2000 [01:03<00:00, 31.35it/s]\n",
      "sampling loop time step: 100%|██████████| 2000/2000 [01:04<00:00, 31.16it/s]\n",
      "sampling loop time step: 100%|██████████| 2000/2000 [01:04<00:00, 31.04it/s]\n",
      "sampling loop time step: 100%|██████████| 2000/2000 [01:05<00:00, 30.68it/s]\n",
      "sampling loop time step: 100%|██████████| 2000/2000 [01:05<00:00, 30.45it/s]\n",
      "sampling loop time step: 100%|██████████| 2000/2000 [01:05<00:00, 30.41it/s]\n",
      "sampling loop time step: 100%|██████████| 2000/2000 [01:05<00:00, 30.47it/s]\n",
      "sampling loop time step: 100%|██████████| 2000/2000 [01:05<00:00, 30.45it/s]\n",
      "sampling loop time step: 100%|██████████| 2000/2000 [01:05<00:00, 30.32it/s]\n",
      "sampling loop time step: 100%|██████████| 2000/2000 [01:05<00:00, 30.42it/s]\n",
      "sampling loop time step: 100%|██████████| 2000/2000 [01:05<00:00, 30.42it/s]\n",
      "sampling loop time step: 100%|██████████| 2000/2000 [01:06<00:00, 30.18it/s]\n",
      "sampling loop time step: 100%|██████████| 2000/2000 [01:06<00:00, 30.30it/s]\n",
      "sampling loop time step: 100%|██████████| 2000/2000 [01:06<00:00, 30.29it/s]\n",
      "sampling loop time step: 100%|██████████| 2000/2000 [01:05<00:00, 30.39it/s]\n",
      "sampling loop time step: 100%|██████████| 2000/2000 [01:05<00:00, 30.31it/s]\n",
      "sampling loop time step: 100%|██████████| 2000/2000 [01:06<00:00, 30.28it/s]\n",
      "sampling loop time step: 100%|██████████| 2000/2000 [01:06<00:00, 30.30it/s]\n",
      "sampling loop time step: 100%|██████████| 2000/2000 [01:05<00:00, 30.42it/s]\n",
      "sampling loop time step: 100%|██████████| 2000/2000 [01:06<00:00, 30.22it/s]\n",
      "sampling loop time step: 100%|██████████| 2000/2000 [01:05<00:00, 30.45it/s]\n",
      "sampling loop time step: 100%|██████████| 2000/2000 [01:05<00:00, 30.33it/s]\n",
      "sampling loop time step: 100%|██████████| 2000/2000 [01:05<00:00, 30.34it/s]\n",
      "sampling loop time step: 100%|██████████| 2000/2000 [01:05<00:00, 30.33it/s]\n",
      "sampling loop time step: 100%|██████████| 2000/2000 [01:05<00:00, 30.35it/s]\n",
      "sampling loop time step: 100%|██████████| 2000/2000 [01:05<00:00, 30.34it/s]\n",
      "sampling loop time step: 100%|██████████| 2000/2000 [01:05<00:00, 30.35it/s]\n",
      "sampling loop time step: 100%|██████████| 2000/2000 [01:05<00:00, 30.35it/s]\n",
      "sampling loop time step: 100%|██████████| 2000/2000 [01:06<00:00, 30.30it/s]\n",
      "sampling loop time step: 100%|██████████| 2000/2000 [01:06<00:00, 30.30it/s]\n",
      "sampling loop time step: 100%|██████████| 2000/2000 [01:06<00:00, 30.30it/s]\n",
      "sampling loop time step: 100%|██████████| 2000/2000 [01:06<00:00, 30.25it/s]\n",
      "sampling loop time step: 100%|██████████| 2000/2000 [01:06<00:00, 30.25it/s]\n",
      "sampling loop time step: 100%|██████████| 2000/2000 [01:06<00:00, 30.05it/s]\n",
      "sampling loop time step: 100%|██████████| 2000/2000 [01:07<00:00, 29.72it/s]\n",
      "sampling loop time step: 100%|██████████| 2000/2000 [01:07<00:00, 29.82it/s]\n",
      "sampling loop time step: 100%|██████████| 2000/2000 [01:06<00:00, 30.30it/s]\n",
      "sampling loop time step: 100%|██████████| 2000/2000 [01:05<00:00, 30.37it/s]\n",
      "sampling loop time step: 100%|██████████| 2000/2000 [01:05<00:00, 30.36it/s]\n",
      "sampling loop time step: 100%|██████████| 2000/2000 [01:05<00:00, 30.32it/s]\n",
      "sampling loop time step: 100%|██████████| 2000/2000 [01:05<00:00, 30.31it/s]\n",
      "sampling loop time step: 100%|██████████| 2000/2000 [01:06<00:00, 30.22it/s]\n",
      "sampling loop time step: 100%|██████████| 2000/2000 [01:05<00:00, 30.38it/s]\n",
      "sampling loop time step: 100%|██████████| 2000/2000 [01:05<00:00, 30.38it/s]\n",
      "sampling loop time step: 100%|██████████| 2000/2000 [01:05<00:00, 30.37it/s]\n",
      "sampling loop time step: 100%|██████████| 2000/2000 [01:05<00:00, 30.37it/s]\n",
      "sampling loop time step: 100%|██████████| 2000/2000 [01:05<00:00, 30.38it/s]\n",
      "sampling loop time step: 100%|██████████| 2000/2000 [01:05<00:00, 30.38it/s]\n",
      "sampling loop time step: 100%|██████████| 2000/2000 [01:05<00:00, 30.38it/s]\n",
      "sampling loop time step: 100%|██████████| 2000/2000 [01:05<00:00, 30.39it/s]\n",
      "sampling loop time step: 100%|██████████| 2000/2000 [01:06<00:00, 30.27it/s]\n",
      "sampling loop time step: 100%|██████████| 2000/2000 [01:05<00:00, 30.41it/s]\n",
      "sampling loop time step: 100%|██████████| 2000/2000 [01:05<00:00, 30.31it/s]\n",
      "sampling loop time step: 100%|██████████| 2000/2000 [01:05<00:00, 30.46it/s]\n",
      "sampling loop time step: 100%|██████████| 2000/2000 [01:05<00:00, 30.33it/s]\n",
      "sampling loop time step: 100%|██████████| 2000/2000 [01:05<00:00, 30.39it/s]\n",
      "sampling loop time step: 100%|██████████| 2000/2000 [01:05<00:00, 30.36it/s]\n",
      "sampling loop time step: 100%|██████████| 2000/2000 [01:05<00:00, 30.35it/s]\n",
      "sampling loop time step: 100%|██████████| 2000/2000 [01:05<00:00, 30.36it/s]\n",
      "sampling loop time step: 100%|██████████| 2000/2000 [01:05<00:00, 30.45it/s]\n",
      "sampling loop time step: 100%|██████████| 2000/2000 [01:05<00:00, 30.42it/s]\n",
      "sampling loop time step: 100%|██████████| 2000/2000 [01:05<00:00, 30.42it/s]\n",
      "sampling loop time step: 100%|██████████| 2000/2000 [01:05<00:00, 30.42it/s]\n",
      "sampling loop time step: 100%|██████████| 2000/2000 [01:05<00:00, 30.42it/s]\n",
      "sampling loop time step: 100%|██████████| 2000/2000 [01:05<00:00, 30.33it/s]\n",
      "sampling loop time step: 100%|██████████| 2000/2000 [01:05<00:00, 30.34it/s]\n",
      "sampling loop time step: 100%|██████████| 2000/2000 [01:05<00:00, 30.41it/s]\n",
      "sampling loop time step: 100%|██████████| 2000/2000 [01:07<00:00, 29.78it/s]\n",
      "sampling loop time step: 100%|██████████| 2000/2000 [01:07<00:00, 29.67it/s]\n",
      "sampling loop time step: 100%|██████████| 2000/2000 [01:07<00:00, 29.74it/s]\n",
      "sampling loop time step:  79%|███████▉  | 1585/2000 [00:53<00:13, 30.27it/s]"
     ]
    }
   ],
   "source": [
    "#idx = [0,1,2,3,4,5]##\n",
    "# idx = [500, 1000, 1500, 2000, 2500, 3000]\n",
    "idx = None\n",
    "scalefactor = int(opt['datasets']['train']['r_resolution']/opt['datasets']['train']['l_resolution'])\n",
    "\n",
    "avg_psnr = 0\n",
    "count = 0\n",
    "\n",
    "for i,  val_data in enumerate(val_loader):\n",
    "    if idx == None:\n",
    "        avg_psnr += test_image(val_data, diffusion, \"misc/85_256_outputs/test_{}_r0\".format(i), scalefactor)\n",
    "        count += 1\n",
    "    elif i in idx:\n",
    "        avg_psnr += test_image(val_data, diffusion, \"misc/85_256_outputs/test_{}_r0\".format(i), scalefactor)\n",
    "        count += 1\n",
    "    elif i > max(idx): \n",
    "        break\n",
    "    else:\n",
    "        continue\n",
    "\n",
    "avg_psnr = avg_psnr / count\n",
    "print(avg_psnr)"
   ]
  },
  {
   "cell_type": "code",
   "execution_count": null,
   "id": "8e719956-7789-479d-bb58-7a6a7427ad5f",
   "metadata": {},
   "outputs": [
    {
     "name": "stderr",
     "output_type": "stream",
     "text": [
      "sampling loop time step: 100%|██████████| 2000/2000 [02:30<00:00, 13.26it/s]\n",
      "sampling loop time step: 100%|██████████| 2000/2000 [02:30<00:00, 13.26it/s]\n",
      "sampling loop time step: 100%|██████████| 2000/2000 [02:30<00:00, 13.27it/s]\n",
      "sampling loop time step: 100%|██████████| 2000/2000 [02:30<00:00, 13.27it/s]\n",
      "sampling loop time step: 100%|██████████| 2000/2000 [02:24<00:00, 13.83it/s]\n",
      "sampling loop time step: 100%|██████████| 2000/2000 [02:23<00:00, 13.90it/s]\n",
      "sampling loop time step:  77%|███████▋  | 1537/2000 [01:50<00:33, 13.73it/s]"
     ]
    }
   ],
   "source": [
    "idx = 0\n",
    "current_epoch = opt['path']['resume_state'][-4:]\n",
    "avg_psnr = 0\n",
    "for _,  val_data in enumerate(val_loader):\n",
    "    idx += 1\n",
    "    diffusion.feed_data(val_data)\n",
    "    diffusion.test(continous=False)\n",
    "    visuals = diffusion.get_current_visuals()\n",
    "    sr_img = Metrics.tensor2img(visuals['SR'])  # uint8\n",
    "    hr_img = Metrics.tensor2img(visuals['HR'])  # uint8\n",
    "    lr_img = Metrics.tensor2img(visuals['LR'])  # uint8\n",
    "    fake_img = Metrics.tensor2img(visuals['INF'])  # uint8\n",
    "\n",
    "    # generation\n",
    "    Metrics.save_img(\n",
    "        hr_img, 'misc/tibia_reps/{}_{}_hr.png'.format(current_epoch, idx))\n",
    "    Metrics.save_img(\n",
    "        sr_img, 'misc/tibia_reps/{}_{}_sr.png'.format(current_epoch, idx))\n",
    "    Metrics.save_img(\n",
    "        lr_img, 'misc/tibia_reps/{}_{}_lr.png'.format(current_epoch, idx))\n",
    "    Metrics.save_img(\n",
    "        fake_img, 'misc/tibia_reps/{}_{}_inf.png'.format(current_epoch, idx))\n",
    "    if len(sr_img.shape) == 3:# this should only activate if the image is 3 channel, if one channel image, no need to transpose\n",
    "        tb_logger.add_image(\n",
    "            'Iter_{}'.format(current_step),\n",
    "            np.transpose(np.concatenate(\n",
    "                (fake_img, sr_img, hr_img), axis=1), [2, 0, 1]),\n",
    "            idx)\n",
    "    else:\n",
    "        Metrics.save_img(np.concatenate(\n",
    "                (fake_img, hr_img, sr_img), axis=1),\n",
    "            'misc/{}_{}.png'.format(current_epoch, idx))\n",
    "\n",
    "    avg_psnr += Metrics.calculate_psnr(\n",
    "        sr_img, hr_img)\n",
    "#     if idx == 3:\n",
    "#         break\n",
    "\n",
    "avg_psnr = avg_psnr / idx\n",
    "print('{}_{}'.format(current_epoch, avg_psnr))"
   ]
  },
  {
   "cell_type": "code",
   "execution_count": null,
   "id": "eba008e0-f91f-4699-9013-8ed5478778b4",
   "metadata": {},
   "outputs": [],
   "source": [
    "2\n",
    "3\n",
    "(4)\n",
    "6\n",
    "7\n",
    "9\n",
    "12\n",
    "(14)\n",
    "(15)\n",
    "17\n",
    "(18)\n",
    "22\n",
    "24\n",
    "25\n"
   ]
  },
  {
   "cell_type": "code",
   "execution_count": 11,
   "id": "0ecff595-012f-4feb-9964-7583d5563e00",
   "metadata": {},
   "outputs": [
    {
     "name": "stderr",
     "output_type": "stream",
     "text": [
      "sampling loop time step: 100%|██████████| 2000/2000 [03:06<00:00, 10.73it/s]\n"
     ]
    },
    {
     "name": "stdout",
     "output_type": "stream",
     "text": [
      "_E60_0.1664998063404325\n"
     ]
    }
   ],
   "source": [
    "ixs = [25]\n",
    "idx = 0\n",
    "current_epoch = opt['path']['resume_state'][-4:]\n",
    "avg_psnr = 0\n",
    "# for j in range(1)\n",
    "for _,  val_data in enumerate(val_loader):\n",
    "    idx += 1\n",
    "    if idx not in ixs:\n",
    "        continue\n",
    "    diffusion.feed_data(val_data)\n",
    "    diffusion.test(continous=False)\n",
    "    visuals = diffusion.get_current_visuals()\n",
    "    sr_img = Metrics.tensor2img(visuals['SR'])  # uint8\n",
    "    hr_img = Metrics.tensor2img(visuals['HR'])  # uint8\n",
    "    lr_img = Metrics.tensor2img(visuals['LR'])  # uint8\n",
    "    fake_img = Metrics.tensor2img(visuals['INF'])  # uint8\n",
    "\n",
    "    # generation\n",
    "    Metrics.save_img(-\n",
    "        hr_img, 'misc/condensed_femur_reps/{}_{}_hr.png'.format(current_epoch, idx))\n",
    "    Metrics.save_img(\n",
    "        sr_img, 'misc/condensed_femur_reps/{}_{}_sr.png'.format(current_epoch, idx))\n",
    "    Metrics.save_img(\n",
    "        lr_img, 'misc/condensed_femur_reps/{}_{}_lr.png'.format(current_epoch, idx))\n",
    "    Metrics.save_img(\n",
    "        fake_img, 'misc/condensed_femur_reps/{}_{}_inf.png'.format(current_epoch, idx))\n",
    "    if len(sr_img.shape) == 3:# this should only activate if the image is 3 channel, if one channel image, no need to transpose\n",
    "        tb_logger.add_image(\n",
    "            'Iter_{}'.format(current_step),\n",
    "            np.transpose(np.concatenate(\n",
    "                (fake_img, sr_img, hr_img), axis=1), [2, 0, 1]),\n",
    "            idx)\n",
    "    else:\n",
    "        Metrics.save_img(np.concatenate(\n",
    "                (fake_img, hr_img, sr_img), axis=1),\n",
    "            'misc/{}_{}.png'.format(current_epoch, idx))\n",
    "\n",
    "    avg_psnr += Metrics.calculate_psnr(\n",
    "        sr_img, hr_img)\n",
    "#     if idx == 3:\n",
    "#         break\n",
    "\n",
    "avg_psnr = avg_psnr / idx\n",
    "print('{}_{}'.format(current_epoch, avg_psnr))"
   ]
  },
  {
   "cell_type": "code",
   "execution_count": null,
   "id": "ef1e68e4-c656-49f7-b1d0-c50071ae0108",
   "metadata": {},
   "outputs": [],
   "source": []
  },
  {
   "cell_type": "code",
   "execution_count": null,
   "id": "1e89624d-5e43-4685-9aaf-f37703d19600",
   "metadata": {},
   "outputs": [],
   "source": []
  },
  {
   "cell_type": "code",
   "execution_count": 4,
   "id": "8e5131cf-26ad-493a-b3c1-c0c98734729e",
   "metadata": {},
   "outputs": [
    {
     "name": "stdout",
     "output_type": "stream",
     "text": [
      "1   0.12\n"
     ]
    }
   ],
   "source": [
    "mumber = 0.123456\n",
    "print('{0}   {1:.2f}'.format(1,mumber))"
   ]
  },
  {
   "cell_type": "code",
   "execution_count": null,
   "id": "256d0501-4dc2-4cc5-bfd8-2a48f354be44",
   "metadata": {},
   "outputs": [],
   "source": []
  }
 ],
 "metadata": {
  "kernelspec": {
   "display_name": "Python 3",
   "language": "python",
   "name": "python3"
  },
  "language_info": {
   "codemirror_mode": {
    "name": "ipython",
    "version": 3
   },
   "file_extension": ".py",
   "mimetype": "text/x-python",
   "name": "python",
   "nbconvert_exporter": "python",
   "pygments_lexer": "ipython3",
   "version": "3.9.6"
  }
 },
 "nbformat": 4,
 "nbformat_minor": 5
}
