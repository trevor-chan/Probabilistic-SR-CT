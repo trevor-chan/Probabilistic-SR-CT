{
 "cells": [
  {
   "cell_type": "code",
   "execution_count": 2,
   "id": "c8bbe9f2-acd2-4fe6-9917-71b9ad48633e",
   "metadata": {},
   "outputs": [],
   "source": [
    "import pydicom as dicom\n",
    "import cv2   \n",
    "import glob\n",
    "from tqdm import tqdm\n",
    "from torchvision import transforms, utils\n",
    "from PIL import Image, ImageFilter\n",
    "import numpy as np\n",
    "import matplotlib.pyplot as plt\n",
    "from itertools import islice \n",
    "from tifffile import imsave\n",
    "from scipy import ndimage"
   ]
  },
  {
   "cell_type": "code",
   "execution_count": 14,
   "id": "1721ccbb-0054-4255-9e71-2346761f7a8c",
   "metadata": {
    "tags": []
   },
   "outputs": [],
   "source": [
    "def normalize(img, pxrange=(0,8000)):\n",
    "    img = np.clip(img, pxrange[0], pxrange[1])\n",
    "    img = np.divide(img, pxrange[1]-pxrange[0])\n",
    "    img = img*255\n",
    "    return img.astype(np.uint8) #return image in uint8 format for max memory\n",
    "\n",
    "def FFT_gaussian(image, kernel = 500):\n",
    "    #apply large kernel blur in frequency space\n",
    "    input_ = np.fft.fft2(image)\n",
    "    result = ndimage.fourier_gaussian(input_, sigma=kernel)\n",
    "    result = np.fft.ifft2(result)\n",
    "    return result.real\n",
    "\n",
    "def mass_center(image):\n",
    "    return np.unravel_index(np.argmax(image, axis=None), image.shape)\n",
    "\n",
    "def crop(img, crop_size=(2048,2048)):\n",
    "    cm_x, cm_y = mass_center(FFT_gaussian(img))\n",
    "    \n",
    "    def correct_overlap(imlen=None, croplen=None, center=None):\n",
    "        assert croplen<imlen\n",
    "        assert center>0 and center<imlen\n",
    "        if min(imlen-center-croplen/2,center-croplen/2) >= 0:\n",
    "            return center\n",
    "        if imlen-center-croplen/2 < center-croplen/2:\n",
    "            return imlen-croplen/2\n",
    "        else:\n",
    "            return croplen/2\n",
    "    \n",
    "    cm_x = correct_overlap(img.shape[0], crop_size[0], cm_x)\n",
    "    cm_y = correct_overlap(img.shape[1], crop_size[1], cm_y)\n",
    "    \n",
    "    return img[int(cm_x-crop_size[0]/2):int(cm_x+crop_size[0]/2) , int(cm_y-crop_size[1]/2):int(cm_y+crop_size[1]/2)] #either return the cropped image\n",
    "#     return int(cm_x-crop_size[0]/2), int(cm_x+crop_size[0]/2), int(cm_y-crop_size[1]/2), int(cm_y+crop_size[1]/2)  #or return the crop paramters (necessary for 3D)\n",
    "\n",
    "def save_to_tiff(impath, do_norm=True, do_crop=(1024,1024),savepath = None):\n",
    "    img = dicom.dcmread(impath).pixel_array\n",
    "    if savepath is None:\n",
    "        savepath = impath.replace('.DCM', '.tif')\n",
    "    if do_norm:\n",
    "        img = normalize(img)\n",
    "    if do_crop is not None:\n",
    "        img = crop(img)\n",
    "    imsave(savepath,img)\n",
    "    print(savepath)"
   ]
  },
  {
   "cell_type": "code",
   "execution_count": 15,
   "id": "dba219c7-8986-4855-800f-9e84adb7cdaa",
   "metadata": {},
   "outputs": [
    {
     "name": "stdout",
     "output_type": "stream",
     "text": [
      "../../../../datasets/femurDCMs/0061119-06/C0000382_02588.tif\n",
      "../../../../datasets/femurDCMs/0061119-06/C0000382_03368.tif\n",
      "../../../../datasets/femurDCMs/0061119-06/C0000382_02595.tif\n",
      "../../../../datasets/femurDCMs/0061119-06/C0000382_01298.tif\n",
      "../../../../datasets/femurDCMs/0061119-06/C0000382_01070.tif\n",
      "../../../../datasets/femurDCMs/0069000_07/C0000421_00369.tif\n",
      "../../../../datasets/femurDCMs/0069000_07/C0000421_02819.tif\n",
      "../../../../datasets/femurDCMs/0069000_07/C0000421_01529.tif\n",
      "../../../../datasets/femurDCMs/0069000_07/C0000421_01179.tif\n",
      "../../../../datasets/femurDCMs/0061119-06/C0000382_02164.tif\n",
      "../../../../datasets/femurDCMs/0061119-06/C0000382_00855.tif\n",
      "../../../../datasets/femurDCMs/0058708-01/C0000481_01861.tif\n",
      "../../../../datasets/femurDCMs/0061119-06/C0000382_02750.tif\n",
      "../../../../datasets/femurDCMs/0069000_07/C0000421_01484.tif\n",
      "../../../../datasets/femurDCMs/0061119-06/C0000382_02730.tif\n",
      "../../../../datasets/femurDCMs/0069000_07/C0000421_03027.tif\n",
      "../../../../datasets/femurDCMs/0069000_07/C0000421_00372.tif\n",
      "../../../../datasets/femurDCMs/0061119-06/C0000382_00272.tif\n",
      "../../../../datasets/femurDCMs/0058708-01/C0000481_01912.tif\n",
      "../../../../datasets/femurDCMs/0061119-06/C0000382_00115.tif\n",
      "../../../../datasets/femurDCMs/0061119-06/C0000382_01252.tif\n",
      "../../../../datasets/femurDCMs/0069000_07/C0000421_00836.tif\n",
      "../../../../datasets/femurDCMs/0069000_07/C0000421_01275.tif\n",
      "../../../../datasets/femurDCMs/0061119-06/C0000382_00826.tif\n",
      "../../../../datasets/femurDCMs/0061119-06/C0000382_01888.tif\n",
      "../../../../datasets/femurDCMs/0061119-06/C0000382_01882.tif\n",
      "../../../../datasets/femurDCMs/0061119-06/C0000382_01116.tif\n",
      "../../../../datasets/femurDCMs/0069000_07/C0000421_02318.tif\n",
      "../../../../datasets/femurDCMs/0061119-06/C0000382_00925.tif\n",
      "../../../../datasets/femurDCMs/0058708-01/C0000481_00670.tif\n",
      "../../../../datasets/femurDCMs/0069000_07/C0000421_02041.tif\n",
      "../../../../datasets/femurDCMs/0061119-06/C0000382_00165.tif\n",
      "../../../../datasets/femurDCMs/0061119-06/C0000382_02006.tif\n",
      "../../../../datasets/femurDCMs/0058708-01/C0000481_01041.tif\n",
      "../../../../datasets/femurDCMs/0069000_07/C0000421_00176.tif\n",
      "../../../../datasets/femurDCMs/0061119-06/C0000382_00356.tif\n",
      "../../../../datasets/femurDCMs/0061119-06/C0000382_02246.tif\n",
      "../../../../datasets/femurDCMs/0061119-06/C0000382_01021.tif\n",
      "../../../../datasets/femurDCMs/0069000_07/C0000421_01656.tif\n",
      "../../../../datasets/femurDCMs/0069000_07/C0000421_01718.tif../../../../datasets/femurDCMs/0069000_07/C0000421_03371.tif\n",
      "\n",
      "../../../../datasets/femurDCMs/0061119-06/C0000382_01012.tif\n",
      "../../../../datasets/femurDCMs/0061119-06/C0000382_01110.tif\n",
      "../../../../datasets/femurDCMs/0069000_07/C0000421_02080.tif\n",
      "../../../../datasets/femurDCMs/0069000_07/C0000421_02974.tif\n",
      "../../../../datasets/femurDCMs/0061119-06/C0000382_02814.tif\n",
      "../../../../datasets/femurDCMs/0061119-06/C0000382_02866.tif\n",
      "../../../../datasets/femurDCMs/0061119-06/C0000382_03496.tif\n",
      "../../../../datasets/femurDCMs/0061119-06/C0000382_02399.tif\n",
      "../../../../datasets/femurDCMs/0069000_07/C0000421_00094.tif\n",
      "../../../../datasets/femurDCMs/0061119-06/C0000382_00077.tif\n",
      "../../../../datasets/femurDCMs/0061119-06/C0000382_00675.tif\n",
      "../../../../datasets/femurDCMs/0058708-01/C0000481_00229.tif\n",
      "../../../../datasets/femurDCMs/0069000_07/C0000421_00111.tif../../../../datasets/femurDCMs/0069000_07/C0000421_00275.tif\n",
      "\n",
      "../../../../datasets/femurDCMs/0061119-06/C0000382_00013.tif\n",
      "../../../../datasets/femurDCMs/0069000_07/C0000421_00286.tif\n",
      "../../../../datasets/femurDCMs/0061119-06/C0000382_02369.tif\n",
      "../../../../datasets/femurDCMs/0069000_07/C0000421_01904.tif\n",
      "../../../../datasets/femurDCMs/0069000_07/C0000421_00618.tif\n",
      "../../../../datasets/femurDCMs/0061119-06/C0000382_00056.tif\n",
      "../../../../datasets/femurDCMs/0061119-06/C0000382_01125.tif\n",
      "../../../../datasets/femurDCMs/0069000_07/C0000421_01161.tif\n",
      "../../../../datasets/femurDCMs/0058708-01/C0000481_01598.tif\n",
      "../../../../datasets/femurDCMs/0061119-06/C0000382_01680.tif\n",
      "../../../../datasets/femurDCMs/0061119-06/C0000382_00978.tif\n",
      "../../../../datasets/femurDCMs/0061119-06/C0000382_03013.tif\n",
      "../../../../datasets/femurDCMs/0069000_07/C0000421_02275.tif\n",
      "../../../../datasets/femurDCMs/0061119-06/C0000382_00236.tif\n",
      "../../../../datasets/femurDCMs/0061119-06/C0000382_01097.tif\n",
      "../../../../datasets/femurDCMs/0069000_07/C0000421_00633.tif\n",
      "../../../../datasets/femurDCMs/0069000_07/C0000421_00329.tif\n",
      "../../../../datasets/femurDCMs/0061119-06/C0000382_03363.tif\n",
      "../../../../datasets/femurDCMs/0061119-06/C0000382_01392.tif\n",
      "../../../../datasets/femurDCMs/0069000_07/C0000421_01532.tif\n",
      "../../../../datasets/femurDCMs/0069000_07/C0000421_02542.tif\n",
      "../../../../datasets/femurDCMs/0058708-01/C0000481_01530.tif\n",
      "../../../../datasets/femurDCMs/0061119-06/C0000382_00119.tif\n",
      "../../../../datasets/femurDCMs/0069000_07/C0000421_01974.tif\n",
      "../../../../datasets/femurDCMs/0061119-06/C0000382_02139.tif\n",
      "../../../../datasets/femurDCMs/0061119-06/C0000382_00435.tif\n",
      "../../../../datasets/femurDCMs/0061119-06/C0000382_00896.tif\n",
      "../../../../datasets/femurDCMs/0061119-06/C0000382_03293.tif\n",
      "../../../../datasets/femurDCMs/0069000_07/C0000421_01016.tif\n",
      "../../../../datasets/femurDCMs/0061119-06/C0000382_02732.tif\n",
      "../../../../datasets/femurDCMs/0069000_07/C0000421_03165.tif\n",
      "../../../../datasets/femurDCMs/0061119-06/C0000382_02258.tif\n",
      "../../../../datasets/femurDCMs/0069000_07/C0000421_01622.tif\n",
      "../../../../datasets/femurDCMs/0069000_07/C0000421_02490.tif\n",
      "../../../../datasets/femurDCMs/0069000_07/C0000421_00435.tif\n",
      "../../../../datasets/femurDCMs/0061119-06/C0000382_01358.tif\n",
      "../../../../datasets/femurDCMs/0061119-06/C0000382_00184.tif\n",
      "../../../../datasets/femurDCMs/0069000_07/C0000421_03133.tif\n",
      "../../../../datasets/femurDCMs/0061119-06/C0000382_03493.tif\n",
      "../../../../datasets/femurDCMs/0061119-06/C0000382_01311.tif\n",
      "../../../../datasets/femurDCMs/0061119-06/C0000382_00586.tif\n",
      "../../../../datasets/femurDCMs/0058708-01/C0000481_01948.tif\n",
      "../../../../datasets/femurDCMs/0061119-06/C0000382_02719.tif\n",
      "../../../../datasets/femurDCMs/0061119-06/C0000382_02387.tif\n",
      "../../../../datasets/femurDCMs/0058708-01/C0000481_00977.tif\n",
      "../../../../datasets/femurDCMs/0069000_07/C0000421_01488.tif\n",
      "../../../../datasets/femurDCMs/0069000_07/C0000421_03207.tif\n",
      "../../../../datasets/femurDCMs/0069000_07/C0000421_03310.tif\n",
      "../../../../datasets/femurDCMs/0061119-06/C0000382_00562.tif\n",
      "../../../../datasets/femurDCMs/0069000_07/C0000421_03365.tif\n",
      "../../../../datasets/femurDCMs/0061119-06/C0000382_03219.tif\n",
      "../../../../datasets/femurDCMs/0069000_07/C0000421_03423.tif\n",
      "../../../../datasets/femurDCMs/0061119-06/C0000382_00600.tif\n",
      "../../../../datasets/femurDCMs/0069000_07/C0000421_03224.tif\n",
      "../../../../datasets/femurDCMs/0061119-06/C0000382_00288.tif\n",
      "../../../../datasets/femurDCMs/0061119-06/C0000382_01941.tif\n",
      "../../../../datasets/femurDCMs/0061119-06/C0000382_03309.tif\n",
      "../../../../datasets/femurDCMs/0061119-06/C0000382_01691.tif\n",
      "../../../../datasets/femurDCMs/0061119-06/C0000382_00306.tif\n",
      "../../../../datasets/femurDCMs/0069000_07/C0000421_02892.tif\n",
      "../../../../datasets/femurDCMs/0069000_07/C0000421_01119.tif\n",
      "../../../../datasets/femurDCMs/0061119-06/C0000382_03091.tif\n",
      "../../../../datasets/femurDCMs/0069000_07/C0000421_03319.tif\n",
      "../../../../datasets/femurDCMs/0061119-06/C0000382_00761.tif\n",
      "../../../../datasets/femurDCMs/0069000_07/C0000421_02307.tif\n",
      "../../../../datasets/femurDCMs/0061119-06/C0000382_00551.tif../../../../datasets/femurDCMs/0061119-06/C0000382_02809.tif\n",
      "\n",
      "../../../../datasets/femurDCMs/0069000_07/C0000421_03295.tif\n",
      "../../../../datasets/femurDCMs/0061119-06/C0000382_03052.tif\n",
      "../../../../datasets/femurDCMs/0061119-06/C0000382_01162.tif\n",
      "../../../../datasets/femurDCMs/0058708-01/C0000481_01522.tif\n",
      "../../../../datasets/femurDCMs/0058708-01/C0000481_01094.tif\n",
      "../../../../datasets/femurDCMs/0069000_07/C0000421_00354.tif\n",
      "../../../../datasets/femurDCMs/0061119-06/C0000382_00639.tif\n",
      "../../../../datasets/femurDCMs/0061119-06/C0000382_00817.tif\n",
      "../../../../datasets/femurDCMs/0069000_07/C0000421_00666.tif\n",
      "../../../../datasets/femurDCMs/0069000_07/C0000421_00416.tif\n",
      "../../../../datasets/femurDCMs/0069000_07/C0000421_00774.tif../../../../datasets/femurDCMs/0061119-06/C0000382_00857.tif\n",
      "\n",
      "../../../../datasets/femurDCMs/0061119-06/C0000382_00613.tif\n",
      "../../../../datasets/femurDCMs/0061119-06/C0000382_02101.tif\n",
      "../../../../datasets/femurDCMs/0061119-06/C0000382_02213.tif\n",
      "../../../../datasets/femurDCMs/0061119-06/C0000382_00901.tif\n",
      "../../../../datasets/femurDCMs/0069000_07/C0000421_00889.tif\n",
      "../../../../datasets/femurDCMs/0069000_07/C0000421_02912.tif\n",
      "../../../../datasets/femurDCMs/0061119-06/C0000382_03004.tif\n",
      "../../../../datasets/femurDCMs/0061119-06/C0000382_01494.tif\n",
      "../../../../datasets/femurDCMs/0069000_07/C0000421_03004.tif\n",
      "../../../../datasets/femurDCMs/0058708-01/C0000481_01767.tif\n",
      "../../../../datasets/femurDCMs/0061119-06/C0000382_00877.tif\n",
      "../../../../datasets/femurDCMs/0069000_07/C0000421_02251.tif\n",
      "../../../../datasets/femurDCMs/0058708-01/C0000481_01463.tif\n",
      "../../../../datasets/femurDCMs/0069000_07/C0000421_02786.tif\n",
      "../../../../datasets/femurDCMs/0061119-06/C0000382_01404.tif\n",
      "../../../../datasets/femurDCMs/0061119-06/C0000382_01395.tif\n",
      "../../../../datasets/femurDCMs/0061119-06/C0000382_02715.tif\n",
      "../../../../datasets/femurDCMs/0061119-06/C0000382_03364.tif\n",
      "../../../../datasets/femurDCMs/0069000_07/C0000421_03011.tif\n",
      "../../../../datasets/femurDCMs/0069000_07/C0000421_00357.tif\n",
      "../../../../datasets/femurDCMs/0069000_07/C0000421_02526.tif\n",
      "../../../../datasets/femurDCMs/0061119-06/C0000382_01922.tif\n",
      "../../../../datasets/femurDCMs/0061119-06/C0000382_03386.tif\n",
      "../../../../datasets/femurDCMs/0069000_07/C0000421_02637.tif\n",
      "../../../../datasets/femurDCMs/0061119-06/C0000382_03174.tif\n",
      "../../../../datasets/femurDCMs/0061119-06/C0000382_02504.tif\n",
      "../../../../datasets/femurDCMs/0061119-06/C0000382_00680.tif\n",
      "../../../../datasets/femurDCMs/0069000_07/C0000421_01921.tif\n",
      "../../../../datasets/femurDCMs/0069000_07/C0000421_01804.tif\n",
      "../../../../datasets/femurDCMs/0058708-01/C0000481_00824.tif\n",
      "../../../../datasets/femurDCMs/0061119-06/C0000382_03153.tif\n",
      "../../../../datasets/femurDCMs/0061119-06/C0000382_03475.tif\n",
      "../../../../datasets/femurDCMs/0061119-06/C0000382_01874.tif\n",
      "../../../../datasets/femurDCMs/0069000_07/C0000421_00974.tif\n",
      "../../../../datasets/femurDCMs/0061119-06/C0000382_00955.tif\n",
      "../../../../datasets/femurDCMs/0069000_07/C0000421_02775.tif\n",
      "../../../../datasets/femurDCMs/0061119-06/C0000382_01419.tif\n",
      "../../../../datasets/femurDCMs/0069000_07/C0000421_02172.tif\n",
      "../../../../datasets/femurDCMs/0061119-06/C0000382_00299.tif\n",
      "../../../../datasets/femurDCMs/0061119-06/C0000382_01403.tif\n",
      "../../../../datasets/femurDCMs/0069000_07/C0000421_00214.tif\n",
      "../../../../datasets/femurDCMs/0061119-06/C0000382_01566.tif\n",
      "../../../../datasets/femurDCMs/0069000_07/C0000421_02743.tif\n",
      "../../../../datasets/femurDCMs/0069000_07/C0000421_03028.tif\n",
      "../../../../datasets/femurDCMs/0061119-06/C0000382_00294.tif\n",
      "../../../../datasets/femurDCMs/0061119-06/C0000382_02831.tif\n",
      "../../../../datasets/femurDCMs/0061119-06/C0000382_02672.tif\n",
      "../../../../datasets/femurDCMs/0069000_07/C0000421_01205.tif\n",
      "../../../../datasets/femurDCMs/0058708-01/C0000481_01719.tif\n",
      "../../../../datasets/femurDCMs/0061119-06/C0000382_00066.tif\n",
      "../../../../datasets/femurDCMs/0061119-06/C0000382_02086.tif\n",
      "../../../../datasets/femurDCMs/0069000_07/C0000421_03188.tif\n",
      "../../../../datasets/femurDCMs/0058708-01/C0000481_00586.tif\n",
      "../../../../datasets/femurDCMs/0069000_07/C0000421_01992.tif\n",
      "../../../../datasets/femurDCMs/0061119-06/C0000382_00862.tif\n",
      "../../../../datasets/femurDCMs/0061119-06/C0000382_02785.tif\n",
      "../../../../datasets/femurDCMs/0061119-06/C0000382_01189.tif\n",
      "../../../../datasets/femurDCMs/0061119-06/C0000382_01087.tif\n",
      "../../../../datasets/femurDCMs/0069000_07/C0000421_00048.tif\n",
      "../../../../datasets/femurDCMs/0069000_07/C0000421_02282.tif\n",
      "../../../../datasets/femurDCMs/0061119-06/C0000382_01567.tif\n",
      "../../../../datasets/femurDCMs/0069000_07/C0000421_02644.tif\n",
      "../../../../datasets/femurDCMs/0069000_07/C0000421_01134.tif\n",
      "../../../../datasets/femurDCMs/0061119-06/C0000382_02265.tif\n",
      "../../../../datasets/femurDCMs/0061119-06/C0000382_00561.tif\n",
      "../../../../datasets/femurDCMs/0061119-06/C0000382_02220.tif\n",
      "../../../../datasets/femurDCMs/0069000_07/C0000421_00290.tif\n",
      "../../../../datasets/femurDCMs/0061119-06/C0000382_00122.tif\n",
      "../../../../datasets/femurDCMs/0061119-06/C0000382_01731.tif\n",
      "../../../../datasets/femurDCMs/0069000_07/C0000421_00566.tif\n",
      "../../../../datasets/femurDCMs/0061119-06/C0000382_03413.tif\n",
      "../../../../datasets/femurDCMs/0061119-06/C0000382_01940.tif\n",
      "../../../../datasets/femurDCMs/0058708-01/C0000481_01158.tif\n",
      "../../../../datasets/femurDCMs/0069000_07/C0000421_01686.tif\n",
      "../../../../datasets/femurDCMs/0069000_07/C0000421_01196.tif../../../../datasets/femurDCMs/0061119-06/C0000382_01907.tif\n",
      "\n",
      "../../../../datasets/femurDCMs/0069000_07/C0000421_02806.tif\n",
      "../../../../datasets/femurDCMs/0061119-06/C0000382_00095.tif\n",
      "../../../../datasets/femurDCMs/0061119-06/C0000382_02755.tif\n",
      "../../../../datasets/femurDCMs/0061119-06/C0000382_03192.tif\n"
     ]
    },
    {
     "ename": "KeyboardInterrupt",
     "evalue": "",
     "output_type": "error",
     "traceback": [
      "\u001b[0;31m---------------------------------------------------------------------------\u001b[0m",
      "\u001b[0;31mKeyboardInterrupt\u001b[0m                         Traceback (most recent call last)",
      "\u001b[0;32m<ipython-input-15-712ba4b2c048>\u001b[0m in \u001b[0;36m<module>\u001b[0;34m\u001b[0m\n\u001b[1;32m      3\u001b[0m \u001b[0;34m\u001b[0m\u001b[0m\n\u001b[1;32m      4\u001b[0m \u001b[0;32mwith\u001b[0m \u001b[0mPool\u001b[0m\u001b[0;34m(\u001b[0m\u001b[0;36m16\u001b[0m\u001b[0;34m)\u001b[0m \u001b[0;32mas\u001b[0m \u001b[0mpool\u001b[0m\u001b[0;34m:\u001b[0m\u001b[0;34m\u001b[0m\u001b[0;34m\u001b[0m\u001b[0m\n\u001b[0;32m----> 5\u001b[0;31m     \u001b[0mpool\u001b[0m\u001b[0;34m.\u001b[0m\u001b[0mmap\u001b[0m\u001b[0;34m(\u001b[0m\u001b[0msave_to_tiff\u001b[0m\u001b[0;34m,\u001b[0m \u001b[0mglob\u001b[0m\u001b[0;34m.\u001b[0m\u001b[0mglob\u001b[0m\u001b[0;34m(\u001b[0m\u001b[0mimages_path\u001b[0m\u001b[0;34m)\u001b[0m\u001b[0;34m)\u001b[0m\u001b[0;34m\u001b[0m\u001b[0;34m\u001b[0m\u001b[0m\n\u001b[0m",
      "\u001b[0;32m~/.conda/envs/diffusion/lib/python3.9/multiprocessing/pool.py\u001b[0m in \u001b[0;36mmap\u001b[0;34m(self, func, iterable, chunksize)\u001b[0m\n\u001b[1;32m    362\u001b[0m         \u001b[0;32min\u001b[0m \u001b[0ma\u001b[0m \u001b[0mlist\u001b[0m \u001b[0mthat\u001b[0m \u001b[0;32mis\u001b[0m \u001b[0mreturned\u001b[0m\u001b[0;34m.\u001b[0m\u001b[0;34m\u001b[0m\u001b[0;34m\u001b[0m\u001b[0m\n\u001b[1;32m    363\u001b[0m         '''\n\u001b[0;32m--> 364\u001b[0;31m         \u001b[0;32mreturn\u001b[0m \u001b[0mself\u001b[0m\u001b[0;34m.\u001b[0m\u001b[0m_map_async\u001b[0m\u001b[0;34m(\u001b[0m\u001b[0mfunc\u001b[0m\u001b[0;34m,\u001b[0m \u001b[0miterable\u001b[0m\u001b[0;34m,\u001b[0m \u001b[0mmapstar\u001b[0m\u001b[0;34m,\u001b[0m \u001b[0mchunksize\u001b[0m\u001b[0;34m)\u001b[0m\u001b[0;34m.\u001b[0m\u001b[0mget\u001b[0m\u001b[0;34m(\u001b[0m\u001b[0;34m)\u001b[0m\u001b[0;34m\u001b[0m\u001b[0;34m\u001b[0m\u001b[0m\n\u001b[0m\u001b[1;32m    365\u001b[0m \u001b[0;34m\u001b[0m\u001b[0m\n\u001b[1;32m    366\u001b[0m     \u001b[0;32mdef\u001b[0m \u001b[0mstarmap\u001b[0m\u001b[0;34m(\u001b[0m\u001b[0mself\u001b[0m\u001b[0;34m,\u001b[0m \u001b[0mfunc\u001b[0m\u001b[0;34m,\u001b[0m \u001b[0miterable\u001b[0m\u001b[0;34m,\u001b[0m \u001b[0mchunksize\u001b[0m\u001b[0;34m=\u001b[0m\u001b[0;32mNone\u001b[0m\u001b[0;34m)\u001b[0m\u001b[0;34m:\u001b[0m\u001b[0;34m\u001b[0m\u001b[0;34m\u001b[0m\u001b[0m\n",
      "\u001b[0;32m~/.conda/envs/diffusion/lib/python3.9/multiprocessing/pool.py\u001b[0m in \u001b[0;36mget\u001b[0;34m(self, timeout)\u001b[0m\n\u001b[1;32m    763\u001b[0m \u001b[0;34m\u001b[0m\u001b[0m\n\u001b[1;32m    764\u001b[0m     \u001b[0;32mdef\u001b[0m \u001b[0mget\u001b[0m\u001b[0;34m(\u001b[0m\u001b[0mself\u001b[0m\u001b[0;34m,\u001b[0m \u001b[0mtimeout\u001b[0m\u001b[0;34m=\u001b[0m\u001b[0;32mNone\u001b[0m\u001b[0;34m)\u001b[0m\u001b[0;34m:\u001b[0m\u001b[0;34m\u001b[0m\u001b[0;34m\u001b[0m\u001b[0m\n\u001b[0;32m--> 765\u001b[0;31m         \u001b[0mself\u001b[0m\u001b[0;34m.\u001b[0m\u001b[0mwait\u001b[0m\u001b[0;34m(\u001b[0m\u001b[0mtimeout\u001b[0m\u001b[0;34m)\u001b[0m\u001b[0;34m\u001b[0m\u001b[0;34m\u001b[0m\u001b[0m\n\u001b[0m\u001b[1;32m    766\u001b[0m         \u001b[0;32mif\u001b[0m \u001b[0;32mnot\u001b[0m \u001b[0mself\u001b[0m\u001b[0;34m.\u001b[0m\u001b[0mready\u001b[0m\u001b[0;34m(\u001b[0m\u001b[0;34m)\u001b[0m\u001b[0;34m:\u001b[0m\u001b[0;34m\u001b[0m\u001b[0;34m\u001b[0m\u001b[0m\n\u001b[1;32m    767\u001b[0m             \u001b[0;32mraise\u001b[0m \u001b[0mTimeoutError\u001b[0m\u001b[0;34m\u001b[0m\u001b[0;34m\u001b[0m\u001b[0m\n",
      "\u001b[0;32m~/.conda/envs/diffusion/lib/python3.9/multiprocessing/pool.py\u001b[0m in \u001b[0;36mwait\u001b[0;34m(self, timeout)\u001b[0m\n\u001b[1;32m    760\u001b[0m \u001b[0;34m\u001b[0m\u001b[0m\n\u001b[1;32m    761\u001b[0m     \u001b[0;32mdef\u001b[0m \u001b[0mwait\u001b[0m\u001b[0;34m(\u001b[0m\u001b[0mself\u001b[0m\u001b[0;34m,\u001b[0m \u001b[0mtimeout\u001b[0m\u001b[0;34m=\u001b[0m\u001b[0;32mNone\u001b[0m\u001b[0;34m)\u001b[0m\u001b[0;34m:\u001b[0m\u001b[0;34m\u001b[0m\u001b[0;34m\u001b[0m\u001b[0m\n\u001b[0;32m--> 762\u001b[0;31m         \u001b[0mself\u001b[0m\u001b[0;34m.\u001b[0m\u001b[0m_event\u001b[0m\u001b[0;34m.\u001b[0m\u001b[0mwait\u001b[0m\u001b[0;34m(\u001b[0m\u001b[0mtimeout\u001b[0m\u001b[0;34m)\u001b[0m\u001b[0;34m\u001b[0m\u001b[0;34m\u001b[0m\u001b[0m\n\u001b[0m\u001b[1;32m    763\u001b[0m \u001b[0;34m\u001b[0m\u001b[0m\n\u001b[1;32m    764\u001b[0m     \u001b[0;32mdef\u001b[0m \u001b[0mget\u001b[0m\u001b[0;34m(\u001b[0m\u001b[0mself\u001b[0m\u001b[0;34m,\u001b[0m \u001b[0mtimeout\u001b[0m\u001b[0;34m=\u001b[0m\u001b[0;32mNone\u001b[0m\u001b[0;34m)\u001b[0m\u001b[0;34m:\u001b[0m\u001b[0;34m\u001b[0m\u001b[0;34m\u001b[0m\u001b[0m\n",
      "\u001b[0;32m~/.conda/envs/diffusion/lib/python3.9/threading.py\u001b[0m in \u001b[0;36mwait\u001b[0;34m(self, timeout)\u001b[0m\n\u001b[1;32m    572\u001b[0m             \u001b[0msignaled\u001b[0m \u001b[0;34m=\u001b[0m \u001b[0mself\u001b[0m\u001b[0;34m.\u001b[0m\u001b[0m_flag\u001b[0m\u001b[0;34m\u001b[0m\u001b[0;34m\u001b[0m\u001b[0m\n\u001b[1;32m    573\u001b[0m             \u001b[0;32mif\u001b[0m \u001b[0;32mnot\u001b[0m \u001b[0msignaled\u001b[0m\u001b[0;34m:\u001b[0m\u001b[0;34m\u001b[0m\u001b[0;34m\u001b[0m\u001b[0m\n\u001b[0;32m--> 574\u001b[0;31m                 \u001b[0msignaled\u001b[0m \u001b[0;34m=\u001b[0m \u001b[0mself\u001b[0m\u001b[0;34m.\u001b[0m\u001b[0m_cond\u001b[0m\u001b[0;34m.\u001b[0m\u001b[0mwait\u001b[0m\u001b[0;34m(\u001b[0m\u001b[0mtimeout\u001b[0m\u001b[0;34m)\u001b[0m\u001b[0;34m\u001b[0m\u001b[0;34m\u001b[0m\u001b[0m\n\u001b[0m\u001b[1;32m    575\u001b[0m             \u001b[0;32mreturn\u001b[0m \u001b[0msignaled\u001b[0m\u001b[0;34m\u001b[0m\u001b[0;34m\u001b[0m\u001b[0m\n\u001b[1;32m    576\u001b[0m \u001b[0;34m\u001b[0m\u001b[0m\n",
      "\u001b[0;32m~/.conda/envs/diffusion/lib/python3.9/threading.py\u001b[0m in \u001b[0;36mwait\u001b[0;34m(self, timeout)\u001b[0m\n\u001b[1;32m    310\u001b[0m         \u001b[0;32mtry\u001b[0m\u001b[0;34m:\u001b[0m    \u001b[0;31m# restore state no matter what (e.g., KeyboardInterrupt)\u001b[0m\u001b[0;34m\u001b[0m\u001b[0;34m\u001b[0m\u001b[0m\n\u001b[1;32m    311\u001b[0m             \u001b[0;32mif\u001b[0m \u001b[0mtimeout\u001b[0m \u001b[0;32mis\u001b[0m \u001b[0;32mNone\u001b[0m\u001b[0;34m:\u001b[0m\u001b[0;34m\u001b[0m\u001b[0;34m\u001b[0m\u001b[0m\n\u001b[0;32m--> 312\u001b[0;31m                 \u001b[0mwaiter\u001b[0m\u001b[0;34m.\u001b[0m\u001b[0macquire\u001b[0m\u001b[0;34m(\u001b[0m\u001b[0;34m)\u001b[0m\u001b[0;34m\u001b[0m\u001b[0;34m\u001b[0m\u001b[0m\n\u001b[0m\u001b[1;32m    313\u001b[0m                 \u001b[0mgotit\u001b[0m \u001b[0;34m=\u001b[0m \u001b[0;32mTrue\u001b[0m\u001b[0;34m\u001b[0m\u001b[0;34m\u001b[0m\u001b[0m\n\u001b[1;32m    314\u001b[0m             \u001b[0;32melse\u001b[0m\u001b[0;34m:\u001b[0m\u001b[0;34m\u001b[0m\u001b[0;34m\u001b[0m\u001b[0m\n",
      "\u001b[0;31mKeyboardInterrupt\u001b[0m: "
     ]
    }
   ],
   "source": [
    "import multiprocessing as mp\n",
    "images_path = '../../../../datasets/femurDCMs/*/*.DCM'\n",
    "\n",
    "with Pool(16) as pool:\n",
    "    pool.map(save_to_tiff, glob.glob(images_path))"
   ]
  },
  {
   "cell_type": "code",
   "execution_count": 10,
   "id": "15bde2d5-8b68-47ee-9fbb-f1cd16ddedd6",
   "metadata": {},
   "outputs": [
    {
     "name": "stdout",
     "output_type": "stream",
     "text": [
      "[0, 2, 4, 6, 8, 10, 12, 14, 16, 18]\n"
     ]
    }
   ],
   "source": [
    "from multiprocessing import Pool\n",
    "\n",
    "def f(x,y=2):\n",
    "    return x*y\n",
    "\n",
    "with Pool(2) as p:\n",
    "    print(p.map(f, range(10)))"
   ]
  },
  {
   "cell_type": "code",
   "execution_count": 4,
   "id": "383427d4-d75b-4ed5-966e-43c2bfd170e4",
   "metadata": {
    "tags": []
   },
   "outputs": [
    {
     "name": "stderr",
     "output_type": "stream",
     "text": [
      "10000it [00:01, 5335.74it/s]"
     ]
    },
    {
     "name": "stdout",
     "output_type": "stream",
     "text": [
      "done\n"
     ]
    },
    {
     "name": "stderr",
     "output_type": "stream",
     "text": [
      "\n"
     ]
    }
   ],
   "source": [
    "# specify your image path\n",
    "images_path = '../../../../datasets/femurDCMs/*/*.DCM'\n",
    "\n",
    "imlist = []\n",
    "max_px = 0\n",
    "min_px = 0\n",
    "for i,impath in tqdm(enumerate(glob.glob(images_path))):\n",
    "    if i>=10000:\n",
    "        break\n",
    "    if i%50 != 0:\n",
    "        continue\n",
    "#     print(impath)\n",
    "    \n",
    "    imlist.append((dicom.dcmread(impath).pixel_array,int(impath[54:-4]),impath[34:]))\n",
    "#     max_px = max(np.max(dicom.dcmread(impath).pixel_array),max_px)\n",
    "#     min_px = min(np.min(dicom.dcmread(impath).pixel_array),min_px)\n",
    "    \n",
    "#     image_format = '.png' # or '.jpg'\n",
    "#     impath = impath.replace('.DCM', image_format)\n",
    "#     cv2.imwrite(impath, pixel_array_numpy)\n",
    "imlist = imlist\n",
    "print('done')"
   ]
  },
  {
   "cell_type": "code",
   "execution_count": 25,
   "id": "7ee72aa7-e9d5-4560-b6ef-c9a9ee5b0519",
   "metadata": {},
   "outputs": [],
   "source": []
  },
  {
   "cell_type": "code",
   "execution_count": 11,
   "id": "4f987916-15fc-4208-bdc3-068442bc6082",
   "metadata": {},
   "outputs": [
    {
     "name": "stderr",
     "output_type": "stream",
     "text": [
      "10it [00:00, 25.90it/s]"
     ]
    },
    {
     "name": "stdout",
     "output_type": "stream",
     "text": [
      "done\n"
     ]
    },
    {
     "name": "stderr",
     "output_type": "stream",
     "text": [
      "\n"
     ]
    }
   ],
   "source": [
    "def plot_histogram(imlist, ax=None):\n",
    "    pixels = np.concatenate([a[0].flatten() for a in imlist],0)\n",
    "    if ax is not None:\n",
    "        ax.hist(pixels, 300, range=(-3000, 7000))\n",
    "        return ax\n",
    "    else:\n",
    "        plt.hist(pixels, 300, range=(-2000, 7000))\n",
    "        plt.savefig('histoplot', format = \"png\")\n",
    "\n",
    "# specify your image path\n",
    "images_path = '../../../../datasets/femurDCMs/*/*.DCM'\n",
    "\n",
    "bones_path = '../../../../datasets/femurDCMs/*/'\n",
    "\n",
    "\n",
    "imlist = []\n",
    "for i,bone_path in tqdm(enumerate(glob.glob(bones_path))):\n",
    "    bonelist = []\n",
    "    for j, impath in enumerate(glob.glob(bone_path+\"*.DCM\")):\n",
    "        if j%1000 != 0:\n",
    "            continue\n",
    "        bonelist.append((dicom.dcmread(impath).pixel_array,int(impath[54:-4]),impath[34:]))\n",
    "    imlist.append((bonelist, bone_path))\n",
    "print('done')\n",
    "\n",
    "    \n"
   ]
  },
  {
   "cell_type": "code",
   "execution_count": 10,
   "id": "bb9a52b6-c8dd-42be-b4f0-372e61aec5b6",
   "metadata": {
    "collapsed": true,
    "jupyter": {
     "outputs_hidden": true
    },
    "tags": []
   },
   "outputs": [
    {
     "name": "stderr",
     "output_type": "stream",
     "text": [
      "100%|██████████| 10/10 [00:02<00:00,  3.81it/s]\n"
     ]
    },
    {
     "data": {
      "image/png": "[encoded data removed]",
      "text/plain": [
       "<Figure size 1000x1000 with 10 Axes>"
      ]
     },
     "metadata": {
      "needs_background": "light"
     },
     "output_type": "display_data"
    }
   ],
   "source": [
    "# Create main figure\n",
    "fig = plt.figure(1, figsize=(10, 10), dpi=100)\n",
    "\n",
    "for k in tqdm(range(10)):\n",
    "    ax = fig.add_subplot(5, 2, k+1)\n",
    "#     ax.set_title(imlist[k][1][20:], loc='right')\n",
    "    plot_histogram(imlist[k][0], ax)\n",
    "plt.savefig(\"pixel_intensity_histograms_3000min.png\", format = 'png', facecolor = 'w')"
   ]
  },
  {
   "cell_type": "code",
   "execution_count": 12,
   "id": "35d3dd5c-a940-4644-9098-98fb6869003d",
   "metadata": {
    "collapsed": true,
    "jupyter": {
     "outputs_hidden": true
    },
    "tags": []
   },
   "outputs": [
    {
     "name": "stderr",
     "output_type": "stream",
     "text": [
      "100%|██████████| 10/10 [00:05<00:00,  1.97it/s]\n"
     ]
    },
    {
     "data": {
      "image/png": "[encoded data removed]",
      "text/plain": [
       "<Figure size 1000x1000 with 10 Axes>"
      ]
     },
     "metadata": {
      "needs_background": "light"
     },
     "output_type": "display_data"
    }
   ],
   "source": [
    "# Create main figure\n",
    "fig = plt.figure(1, figsize=(10, 10), dpi=100)\n",
    "\n",
    "for k in tqdm(range(10)):\n",
    "    ax = fig.add_subplot(5, 2, k+1)\n",
    "#     ax.set_title(imlist[k][1][20:], loc='right')\n",
    "    plot_histogram(imlist[k][0], ax)\n",
    "plt.savefig(\"pixel_intensity_histograms_3000min.png\", format = 'png', facecolor = 'w')"
   ]
  },
  {
   "cell_type": "code",
   "execution_count": null,
   "id": "efa80800-fca9-4aeb-8752-5e76a0ed1d70",
   "metadata": {},
   "outputs": [],
   "source": []
  },
  {
   "cell_type": "code",
   "execution_count": null,
   "id": "95da3d95-be0a-4371-a3fb-fbaa6392e5ee",
   "metadata": {},
   "outputs": [],
   "source": []
  },
  {
   "cell_type": "code",
   "execution_count": 21,
   "id": "e6c128a3-72e9-46c2-b480-0e986f5e022d",
   "metadata": {
    "collapsed": true,
    "jupyter": {
     "outputs_hidden": true
    },
    "tags": []
   },
   "outputs": [
    {
     "name": "stderr",
     "output_type": "stream",
     "text": [
      "<__array_function__ internals>:5: VisibleDeprecationWarning: Creating an ndarray from ragged nested sequences (which is a list-or-tuple of lists-or-tuples-or ndarrays with different lengths or shapes) is deprecated. If you meant to do this, you must specify 'dtype=object' when creating the ndarray\n"
     ]
    },
    {
     "ename": "AxisError",
     "evalue": "axis 1 is out of bounds for array of dimension 1",
     "output_type": "error",
     "traceback": [
      "\u001b[0;31m---------------------------------------------------------------------------\u001b[0m",
      "\u001b[0;31mAxisError\u001b[0m                                 Traceback (most recent call last)",
      "\u001b[0;32m<ipython-input-21-6b8b5528414c>\u001b[0m in \u001b[0;36m<module>\u001b[0;34m\u001b[0m\n\u001b[0;32m----> 1\u001b[0;31m plt.imshow(np.concatenate([np.concatenate([im[0] for im in islice(imlist,8)],axis=1) \n\u001b[0m\u001b[1;32m      2\u001b[0m                            for i in range(4)],axis=0))\n",
      "\u001b[0;32m<ipython-input-21-6b8b5528414c>\u001b[0m in \u001b[0;36m<listcomp>\u001b[0;34m(.0)\u001b[0m\n\u001b[0;32m----> 1\u001b[0;31m plt.imshow(np.concatenate([np.concatenate([im[0] for im in islice(imlist,8)],axis=1) \n\u001b[0m\u001b[1;32m      2\u001b[0m                            for i in range(4)],axis=0))\n",
      "\u001b[0;32m<__array_function__ internals>\u001b[0m in \u001b[0;36mconcatenate\u001b[0;34m(*args, **kwargs)\u001b[0m\n",
      "\u001b[0;31mAxisError\u001b[0m: axis 1 is out of bounds for array of dimension 1"
     ]
    }
   ],
   "source": [
    "plt.imshow(np.concatenate([np.concatenate([im[0] for im in islice(imlist,8)],axis=1) \n",
    "                           for i in range(4)],axis=0))"
   ]
  },
  {
   "cell_type": "code",
   "execution_count": null,
   "id": "b63f7fe3-bbf9-4d50-8579-2a0d158cfa17",
   "metadata": {},
   "outputs": [],
   "source": []
  },
  {
   "cell_type": "code",
   "execution_count": null,
   "id": "1f19102e-90a0-4726-8ed6-446e16bf42c3",
   "metadata": {},
   "outputs": [],
   "source": []
  },
  {
   "cell_type": "code",
   "execution_count": null,
   "id": "70e57a5c-7e65-46f9-a792-abb7ebf55224",
   "metadata": {},
   "outputs": [],
   "source": []
  }
 ],
 "metadata": {
  "kernelspec": {
   "display_name": "Python 3",
   "language": "python",
   "name": "python3"
  },
  "language_info": {
   "codemirror_mode": {
    "name": "ipython",
    "version": 3
   },
   "file_extension": ".py",
   "mimetype": "text/x-python",
   "name": "python",
   "nbconvert_exporter": "python",
   "pygments_lexer": "ipython3",
   "version": "3.9.6"
  }
 },
 "nbformat": 4,
 "nbformat_minor": 5
}
